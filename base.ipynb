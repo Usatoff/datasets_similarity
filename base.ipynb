{
 "cells": [
  {
   "cell_type": "code",
   "execution_count": 162,
   "metadata": {},
   "outputs": [],
   "source": [
    "import numpy as np\n",
    "import pandas as pd\n",
    "import torch\n",
    "import pytorch_lightning as pl\n",
    "import albumentations as A\n",
    "from torchvision.models import resnet50, ResNet50_Weights, resnet18, ResNet18_Weights\n",
    "from albumentations.pytorch import ToTensorV2\n",
    "from torch.utils.data import Dataset, DataLoader\n",
    "import os\n",
    "import cv2\n",
    "from tqdm.auto import tqdm\n",
    "from matplotlib import pyplot as plt"
   ]
  },
  {
   "cell_type": "code",
   "execution_count": 113,
   "metadata": {},
   "outputs": [],
   "source": [
    "class MyDataset(Dataset):\n",
    "    def __init__(self,\n",
    "                 images_folder,\n",
    "                 transform=None,\n",
    "                 *args, **kwargs):\n",
    "\n",
    "        super().__init__(*args, **kwargs)\n",
    "\n",
    "        self.images_folder = images_folder\n",
    "\n",
    "        self.transform = transform if transform else \\\n",
    "            A.Compose(\n",
    "                [\n",
    "                    ToTensorV2(),\n",
    "                ]\n",
    "            )\n",
    "        self.model_transform = ResNet18_Weights.IMAGENET1K_V1.transforms()\n",
    "\n",
    "        self.images_paths = []\n",
    "        self._read_images_names()\n",
    "\n",
    "    def _read_images_names(self):\n",
    "        for root, dirs, files in os.walk(self.images_folder):\n",
    "            for image_name in files:\n",
    "                img_path = os.path.join(root, image_name)\n",
    "\n",
    "                _, ext = os.path.splitext(img_path)\n",
    "                if ext not in ['.png', '.jpg', '.jpeg']:\n",
    "                    continue\n",
    "\n",
    "                self.images_paths.append(img_path)\n",
    "\n",
    "    def __len__(self):\n",
    "        return len(self.images_paths)\n",
    "\n",
    "    def __getitem__(self, idx):\n",
    "        filepath = self.images_paths[idx]\n",
    "        image = cv2.imread(filepath)\n",
    "        image = cv2.cvtColor(image, cv2.COLOR_BGR2RGB)\n",
    "        \n",
    "        image = self.transform(image=image)[\"image\"]\n",
    "        image = self.model_transform(image)\n",
    "\n",
    "        return image.float()"
   ]
  },
  {
   "cell_type": "code",
   "execution_count": 119,
   "metadata": {},
   "outputs": [],
   "source": [
    "my_dataset = MyDataset(images_folder=\"/Users/alex-usatoff/Downloads/faces_datasets/ds1\")"
   ]
  },
  {
   "cell_type": "code",
   "execution_count": 120,
   "metadata": {},
   "outputs": [
    {
     "data": {
      "text/plain": [
       "70000"
      ]
     },
     "execution_count": 120,
     "metadata": {},
     "output_type": "execute_result"
    }
   ],
   "source": [
    "len(my_dataset)"
   ]
  },
  {
   "cell_type": "code",
   "execution_count": 91,
   "metadata": {},
   "outputs": [],
   "source": [
    "class EmbeddingsExtractor(pl.LightningModule):\n",
    "\n",
    "    def __init__(self):\n",
    "        super(EmbeddingsExtractor, self).__init__()\n",
    "\n",
    "        self.model = resnet18(weights=ResNet18_Weights)\n",
    "\n",
    "        self.model.fc = torch.nn.Sequential(\n",
    "            torch.nn.Flatten(),\n",
    "        )\n",
    "\n",
    "        for name, param in self.model.named_parameters():\n",
    "            # if \"fc\" in name or \"layer4\" in name or \"layer3\" in name:\n",
    "            #     continue\n",
    "            param.requires_grad = False\n",
    "\n",
    "        # self.device = torch.device(\"mps\") if torch.backends.mps.is_available() else torch.device(\"cpu\")\n",
    "        self.model.to(self.device)\n",
    "\n",
    "    def forward(self, x):\n",
    "        return self.model(x)\n",
    "\n",
    "    def get_embedings(self, dataset):\n",
    "        dataloader = DataLoader(dataset, batch_size=16)\n",
    "        self.eval()\n",
    "        embeds = []\n",
    "        with torch.no_grad():\n",
    "            for batch in dataloader:\n",
    "                batch = batch.to(self.device)\n",
    "                outputs = self(batch)\n",
    "                embeds.append(outputs)\n",
    "        return torch.cat(embeds)"
   ]
  },
  {
   "cell_type": "code",
   "execution_count": 140,
   "metadata": {},
   "outputs": [],
   "source": [
    "import torch.utils\n",
    "import torch.utils.data\n",
    "\n",
    "\n",
    "def get_embeds_example(dataset, extractor, subsample_size=1_000, random_seed=42):\n",
    "    np.random.seed(random_seed)\n",
    "    idxs = np.random.choice(range(len(dataset)), subsample_size, True)\n",
    "    subset = torch.utils.data.Subset(dataset, idxs)\n",
    "    \n",
    "    embeds = extractor.get_embedings(subset)\n",
    "    return embeds"
   ]
  },
  {
   "cell_type": "code",
   "execution_count": 141,
   "metadata": {},
   "outputs": [
    {
     "data": {
      "text/plain": [
       "torch.Size([10, 512])"
      ]
     },
     "execution_count": 141,
     "metadata": {},
     "output_type": "execute_result"
    }
   ],
   "source": [
    "get_embeds_example(my_dataset, extractor, 10).shape"
   ]
  },
  {
   "cell_type": "code",
   "execution_count": 143,
   "metadata": {},
   "outputs": [],
   "source": [
    "embeds1, embeds2 = get_embeds_example(my_dataset, extractor, random_seed=42), get_embeds_example(my_dataset, extractor, random_seed=69)"
   ]
  },
  {
   "cell_type": "code",
   "execution_count": 208,
   "metadata": {},
   "outputs": [],
   "source": [
    "from scipy.spatial.distance import cosine\n",
    "from sklearn.metrics import mean_squared_error as mse\n",
    "from itertools import product\n",
    "\n",
    "def _mean_similarity(emb1, emb2):\n",
    "\n",
    "    sim_sum = 0\n",
    "    for el1 in emb1:\n",
    "        for el2 in emb2:\n",
    "            sim_sum += np.dot(el1, el2) / (np.linalg.norm(el1) * np.linalg.norm(el2))\n",
    "    \n",
    "    return sim_sum / len(emb1) / len(emb2)\n",
    "\n",
    "\n",
    "def embeds_list_similarity(emb1, emb2):\n",
    "    emb1, emb2 = np.array(emb1), np.array(emb2)\n",
    "\n",
    "    return np.mean(_mean_similarity(emb1, emb2)) / 2 + np.mean(_mean_similarity(emb2, emb1)) / 2"
   ]
  },
  {
   "cell_type": "code",
   "execution_count": 212,
   "metadata": {},
   "outputs": [
    {
     "data": {
      "text/plain": [
       "0.7159892408609391"
      ]
     },
     "execution_count": 212,
     "metadata": {},
     "output_type": "execute_result"
    }
   ],
   "source": [
    "embeds_list_similarity(embeds1, embeds2)"
   ]
  },
  {
   "cell_type": "code",
   "execution_count": 213,
   "metadata": {},
   "outputs": [],
   "source": [
    "def get_similarities(ds1, ds2, subsample_size=100):\n",
    "    similarities_list = []\n",
    "    for seed in tqdm(range(100)):\n",
    "        embeds1, embeds2 = get_embeds_example(\n",
    "            ds1, extractor, random_seed=seed, subsample_size=subsample_size), get_embeds_example(\n",
    "                ds2, extractor, random_seed=seed**2, subsample_size=subsample_size)\n",
    "        similarities_list.append(embeds_list_similarity(embeds1, embeds2))\n",
    "    return similarities_list"
   ]
  },
  {
   "cell_type": "code",
   "execution_count": 214,
   "metadata": {},
   "outputs": [
    {
     "data": {
      "application/vnd.jupyter.widget-view+json": {
       "model_id": "dfbf38f2e1684df9b6729b994bb36603",
       "version_major": 2,
       "version_minor": 0
      },
      "text/plain": [
       "  0%|          | 0/100 [00:00<?, ?it/s]"
      ]
     },
     "metadata": {},
     "output_type": "display_data"
    }
   ],
   "source": [
    "similarities_list = get_similarities(my_dataset, my_dataset)"
   ]
  },
  {
   "cell_type": "code",
   "execution_count": 215,
   "metadata": {},
   "outputs": [
    {
     "data": {
      "text/plain": [
       "(array([ 1.,  0.,  1.,  2.,  7., 14., 12., 10., 17., 13.,  6.,  6.,  7.,\n",
       "         1.,  1.,  0.,  1.,  0.,  0.,  1.]),\n",
       " array([0.71598924, 0.71780037, 0.71961151, 0.72142264, 0.72323377,\n",
       "        0.72504491, 0.72685604, 0.72866717, 0.7304783 , 0.73228944,\n",
       "        0.73410057, 0.7359117 , 0.73772284, 0.73953397, 0.7413451 ,\n",
       "        0.74315623, 0.74496737, 0.7467785 , 0.74858963, 0.75040077,\n",
       "        0.7522119 ]),\n",
       " <BarContainer object of 20 artists>)"
      ]
     },
     "execution_count": 215,
     "metadata": {},
     "output_type": "execute_result"
    },
    {
     "data": {
      "image/png": "[encoded data removed]",
      "text/plain": [
       "<Figure size 640x480 with 1 Axes>"
      ]
     },
     "metadata": {},
     "output_type": "display_data"
    }
   ],
   "source": [
    "plt.hist(similarities_list, bins=20)"
   ]
  },
  {
   "cell_type": "code",
   "execution_count": 216,
   "metadata": {},
   "outputs": [
    {
     "data": {
      "text/plain": [
       "(12000, 70000)"
      ]
     },
     "execution_count": 216,
     "metadata": {},
     "output_type": "execute_result"
    }
   ],
   "source": [
    "test_dataset = MyDataset(images_folder=\"/Users/alex-usatoff/Downloads/faces_datasets/ds2\")\n",
    "len(test_dataset), len(my_dataset)"
   ]
  },
  {
   "cell_type": "code",
   "execution_count": 217,
   "metadata": {},
   "outputs": [
    {
     "data": {
      "application/vnd.jupyter.widget-view+json": {
       "model_id": "58ce7e573d0f4e9a84d0ba0fe32e2bec",
       "version_major": 2,
       "version_minor": 0
      },
      "text/plain": [
       "  0%|          | 0/100 [00:00<?, ?it/s]"
      ]
     },
     "metadata": {},
     "output_type": "display_data"
    }
   ],
   "source": [
    "similarities_test_list = get_similarities(my_dataset, test_dataset)"
   ]
  },
  {
   "cell_type": "code",
   "execution_count": 218,
   "metadata": {},
   "outputs": [
    {
     "data": {
      "text/plain": [
       "(array([ 4.,  5.,  2.,  1.,  6.,  9.,  7.,  6.,  3., 11., 10.,  5.,  7.,\n",
       "         9.,  7.,  4.,  1.,  2.,  0.,  1.]),\n",
       " array([0.67881234, 0.68005977, 0.6813072 , 0.68255464, 0.68380207,\n",
       "        0.6850495 , 0.68629693, 0.68754437, 0.6887918 , 0.69003923,\n",
       "        0.69128666, 0.69253409, 0.69378153, 0.69502896, 0.69627639,\n",
       "        0.69752382, 0.69877126, 0.70001869, 0.70126612, 0.70251355,\n",
       "        0.70376098]),\n",
       " <BarContainer object of 20 artists>)"
      ]
     },
     "execution_count": 218,
     "metadata": {},
     "output_type": "execute_result"
    },
    {
     "data": {
      "image/png": "[encoded data removed]",
      "text/plain": [
       "<Figure size 640x480 with 1 Axes>"
      ]
     },
     "metadata": {},
     "output_type": "display_data"
    }
   ],
   "source": [
    "plt.hist(similarities_test_list, bins=20)"
   ]
  },
  {
   "cell_type": "code",
   "execution_count": null,
   "metadata": {},
   "outputs": [],
   "source": []
  }
 ],
 "metadata": {
  "kernelspec": {
   "display_name": "Python 3 (ipykernel)",
   "language": "python",
   "name": "python3"
  },
  "language_info": {
   "codemirror_mode": {
    "name": "ipython",
    "version": 3
   },
   "file_extension": ".py",
   "mimetype": "text/x-python",
   "name": "python",
   "nbconvert_exporter": "python",
   "pygments_lexer": "ipython3",
   "version": "3.12.4"
  }
 },
 "nbformat": 4,
 "nbformat_minor": 2
}
