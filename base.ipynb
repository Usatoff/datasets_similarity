{
 "cells": [
  {
   "cell_type": "code",
   "execution_count": 1,
   "metadata": {},
   "outputs": [],
   "source": [
    "import numpy as np\n",
    "import pandas as pd\n",
    "import torch\n",
    "import pytorch_lightning as pl\n",
    "import albumentations as A\n",
    "from torchvision.models import resnet50, ResNet50_Weights, resnet18, ResNet18_Weights\n",
    "from albumentations.pytorch import ToTensorV2\n",
    "from torch.utils.data import Dataset, DataLoader\n",
    "import os\n",
    "import cv2\n",
    "from tqdm.auto import tqdm\n",
    "from matplotlib import pyplot as plt"
   ]
  },
  {
   "cell_type": "code",
   "execution_count": 2,
   "metadata": {},
   "outputs": [],
   "source": [
    "class MyDataset(Dataset):\n",
    "    def __init__(self,\n",
    "                 images_folder,\n",
    "                 transform=None,\n",
    "                 *args, **kwargs):\n",
    "\n",
    "        super().__init__(*args, **kwargs)\n",
    "\n",
    "        self.images_folder = images_folder\n",
    "\n",
    "        self.transform = transform if transform else \\\n",
    "            A.Compose(\n",
    "                [\n",
    "                    ToTensorV2(),\n",
    "                ]\n",
    "            )\n",
    "        self.model_transform = ResNet18_Weights.IMAGENET1K_V1.transforms()\n",
    "\n",
    "        self.images_paths = []\n",
    "        self._read_images_names()\n",
    "\n",
    "    def _read_images_names(self):\n",
    "        for root, dirs, files in os.walk(self.images_folder):\n",
    "            for image_name in files:\n",
    "                img_path = os.path.join(root, image_name)\n",
    "\n",
    "                _, ext = os.path.splitext(img_path)\n",
    "                if ext not in ['.png', '.jpg', '.jpeg']:\n",
    "                    continue\n",
    "\n",
    "                self.images_paths.append(img_path)\n",
    "\n",
    "    def __len__(self):\n",
    "        return len(self.images_paths)\n",
    "    \n",
    "    def get_original_image(self, idx):\n",
    "        filepath = self.images_paths[idx]\n",
    "        image = cv2.imread(filepath)\n",
    "        image = cv2.cvtColor(image, cv2.COLOR_BGR2RGB)\n",
    "\n",
    "        return image.float()\n",
    "\n",
    "    def __getitem__(self, idx):\n",
    "        filepath = self.images_paths[idx]\n",
    "        image = cv2.imread(filepath)\n",
    "        image = cv2.cvtColor(image, cv2.COLOR_BGR2RGB)\n",
    "        \n",
    "        image = self.transform(image=image)[\"image\"]\n",
    "        image = self.model_transform(image)\n",
    "\n",
    "        return image.float()"
   ]
  },
  {
   "cell_type": "code",
   "execution_count": 3,
   "metadata": {},
   "outputs": [],
   "source": [
    "my_dataset = MyDataset(images_folder=\"/Users/alex-usatoff/Downloads/faces_datasets/ds1\")"
   ]
  },
  {
   "cell_type": "code",
   "execution_count": 4,
   "metadata": {},
   "outputs": [
    {
     "data": {
      "text/plain": [
       "70000"
      ]
     },
     "execution_count": 4,
     "metadata": {},
     "output_type": "execute_result"
    }
   ],
   "source": [
    "len(my_dataset)"
   ]
  },
  {
   "cell_type": "code",
   "execution_count": 17,
   "metadata": {},
   "outputs": [],
   "source": [
    "class EmbeddingsExtractor(pl.LightningModule):\n",
    "\n",
    "    def __init__(self):\n",
    "        super(EmbeddingsExtractor, self).__init__()\n",
    "\n",
    "        self.model = resnet18(weights=ResNet18_Weights.IMAGENET1K_V1)\n",
    "\n",
    "        self.model.fc = torch.nn.Sequential(\n",
    "            torch.nn.Flatten(),\n",
    "        )\n",
    "\n",
    "        for name, param in self.model.named_parameters():\n",
    "            # if \"fc\" in name or \"layer4\" in name or \"layer3\" in name:\n",
    "            #     continue\n",
    "            param.requires_grad = False\n",
    "\n",
    "        # self.device = torch.device(\"mps\") if torch.backends.mps.is_available() else torch.device(\"cpu\")\n",
    "        self.model.to(self.device)\n",
    "\n",
    "    def forward(self, x):\n",
    "        return self.model(x)\n",
    "\n",
    "    def get_embedings(self, dataset):\n",
    "        dataloader = DataLoader(dataset, batch_size=16)\n",
    "        self.eval()\n",
    "        embeds = []\n",
    "        with torch.no_grad():\n",
    "            for batch in dataloader:\n",
    "                batch = batch.to(self.device)\n",
    "                outputs = self(batch)\n",
    "                embeds.append(outputs)\n",
    "        return torch.cat(embeds)"
   ]
  },
  {
   "cell_type": "code",
   "execution_count": 18,
   "metadata": {},
   "outputs": [],
   "source": [
    "my_dataset_1, my_dataset_2 = torch.utils.data.Subset(\n",
    "    my_dataset, \n",
    "    range(\n",
    "        len(my_dataset) // 2)\n",
    "    ), \\\n",
    "    torch.utils.data.Subset(\n",
    "        my_dataset, \n",
    "        range(len(my_dataset) // 2, \n",
    "        len(my_dataset))\n",
    "    )"
   ]
  },
  {
   "cell_type": "code",
   "execution_count": 19,
   "metadata": {},
   "outputs": [],
   "source": [
    "import torch.utils\n",
    "import torch.utils.data\n",
    "\n",
    "\n",
    "def get_embeds_example(dataset, extractor, subsample_size=1_000, random_seed=42):\n",
    "    np.random.seed(random_seed)\n",
    "    idxs = np.random.choice(range(len(dataset)), subsample_size, replace=True)\n",
    "    subset = torch.utils.data.Subset(dataset, idxs)\n",
    "    \n",
    "    embeds = extractor.get_embedings(subset)\n",
    "    return embeds"
   ]
  },
  {
   "cell_type": "code",
   "execution_count": 20,
   "metadata": {},
   "outputs": [],
   "source": [
    "extractor = EmbeddingsExtractor()"
   ]
  },
  {
   "cell_type": "code",
   "execution_count": 21,
   "metadata": {},
   "outputs": [
    {
     "data": {
      "text/plain": [
       "torch.Size([10, 512])"
      ]
     },
     "execution_count": 21,
     "metadata": {},
     "output_type": "execute_result"
    }
   ],
   "source": [
    "get_embeds_example(my_dataset, extractor, 10).shape"
   ]
  },
  {
   "cell_type": "code",
   "execution_count": 22,
   "metadata": {},
   "outputs": [],
   "source": [
    "embeds1, embeds2 = get_embeds_example(my_dataset_1, extractor, random_seed=42), get_embeds_example(my_dataset_2, extractor, random_seed=69)"
   ]
  },
  {
   "cell_type": "code",
   "execution_count": 23,
   "metadata": {},
   "outputs": [],
   "source": [
    "from scipy.spatial.distance import cosine\n",
    "from sklearn.metrics import mean_squared_error as mse\n",
    "from itertools import product\n",
    "\n",
    "def _mean_similarity(emb1, emb2):\n",
    "\n",
    "    sim_sum = 0\n",
    "    for el1 in emb1:\n",
    "        for el2 in emb2:\n",
    "            sim_sum += np.dot(el1, el2) / (np.linalg.norm(el1) * np.linalg.norm(el2))\n",
    "    \n",
    "    return sim_sum / len(emb1) / len(emb2)\n",
    "\n",
    "\n",
    "def embeds_list_similarity(emb1, emb2):\n",
    "    emb1, emb2 = np.array(emb1), np.array(emb2)\n",
    "\n",
    "    return np.mean(_mean_similarity(emb1, emb2))"
   ]
  },
  {
   "cell_type": "code",
   "execution_count": 24,
   "metadata": {},
   "outputs": [
    {
     "data": {
      "text/plain": [
       "0.7295442850151658"
      ]
     },
     "execution_count": 24,
     "metadata": {},
     "output_type": "execute_result"
    }
   ],
   "source": [
    "embeds_list_similarity(embeds1, embeds2)"
   ]
  },
  {
   "cell_type": "code",
   "execution_count": 27,
   "metadata": {},
   "outputs": [],
   "source": [
    "def get_similarities(ds1, ds2, subsample_size=100, iters=100):\n",
    "    similarities_list = []\n",
    "    for seed in tqdm(range(iters)):\n",
    "        embeds1, embeds2 = get_embeds_example(\n",
    "            ds1, extractor, random_seed=seed, subsample_size=subsample_size), get_embeds_example(\n",
    "                ds2, extractor, random_seed=seed**2, subsample_size=subsample_size)\n",
    "        similarities_list.append(embeds_list_similarity(embeds1, embeds2))\n",
    "    return similarities_list"
   ]
  },
  {
   "cell_type": "code",
   "execution_count": 29,
   "metadata": {},
   "outputs": [
    {
     "data": {
      "application/vnd.jupyter.widget-view+json": {
       "model_id": "1bd67c46512d40e29ea7c72cf19052d4",
       "version_major": 2,
       "version_minor": 0
      },
      "text/plain": [
       "  0%|          | 0/100 [00:00<?, ?it/s]"
      ]
     },
     "metadata": {},
     "output_type": "display_data"
    }
   ],
   "source": [
    "similarities_list = get_similarities(my_dataset_1, my_dataset_2)"
   ]
  },
  {
   "cell_type": "code",
   "execution_count": 30,
   "metadata": {},
   "outputs": [
    {
     "data": {
      "text/plain": [
       "(array([ 3.,  3.,  1.,  8.,  4.,  7., 11.,  9., 12., 11.,  7.,  2.,  5.,\n",
       "         6.,  2.,  4.,  1.,  1.,  2.,  1.]),\n",
       " array([0.72106318, 0.7223196 , 0.72357602, 0.72483244, 0.72608886,\n",
       "        0.72734528, 0.7286017 , 0.72985812, 0.73111454, 0.73237096,\n",
       "        0.73362738, 0.7348838 , 0.73614022, 0.73739664, 0.73865306,\n",
       "        0.73990948, 0.7411659 , 0.74242232, 0.74367874, 0.74493516,\n",
       "        0.74619158]),\n",
       " <BarContainer object of 20 artists>)"
      ]
     },
     "execution_count": 30,
     "metadata": {},
     "output_type": "execute_result"
    },
    {
     "data": {
      "image/png": "[encoded data removed]",
      "text/plain": [
       "<Figure size 640x480 with 1 Axes>"
      ]
     },
     "metadata": {},
     "output_type": "display_data"
    }
   ],
   "source": [
    "plt.hist(similarities_list, bins=20)"
   ]
  },
  {
   "cell_type": "code",
   "execution_count": 31,
   "metadata": {},
   "outputs": [
    {
     "data": {
      "text/plain": [
       "(12000, 70000)"
      ]
     },
     "execution_count": 31,
     "metadata": {},
     "output_type": "execute_result"
    }
   ],
   "source": [
    "test_dataset = MyDataset(images_folder=\"/Users/alex-usatoff/Downloads/faces_datasets/ds2\")\n",
    "len(test_dataset), len(my_dataset)"
   ]
  },
  {
   "cell_type": "code",
   "execution_count": 32,
   "metadata": {},
   "outputs": [
    {
     "data": {
      "application/vnd.jupyter.widget-view+json": {
       "model_id": "d08428b5303e45cea3287956affbd73f",
       "version_major": 2,
       "version_minor": 0
      },
      "text/plain": [
       "  0%|          | 0/100 [00:00<?, ?it/s]"
      ]
     },
     "metadata": {},
     "output_type": "display_data"
    }
   ],
   "source": [
    "similarities_test_list_1 = get_similarities(my_dataset_1, test_dataset)"
   ]
  },
  {
   "cell_type": "code",
   "execution_count": 33,
   "metadata": {},
   "outputs": [
    {
     "data": {
      "text/plain": [
       "(array([ 2.,  2.,  2.,  0.,  5.,  5., 12., 11.,  6.,  9.,  4.,  6., 11.,\n",
       "         6.,  5.,  4.,  8.,  0.,  0.,  2.]),\n",
       " array([0.67692125, 0.67826136, 0.67960146, 0.68094156, 0.68228166,\n",
       "        0.68362176, 0.68496186, 0.68630196, 0.68764206, 0.68898217,\n",
       "        0.69032227, 0.69166237, 0.69300247, 0.69434257, 0.69568267,\n",
       "        0.69702277, 0.69836287, 0.69970297, 0.70104308, 0.70238318,\n",
       "        0.70372328]),\n",
       " <BarContainer object of 20 artists>)"
      ]
     },
     "execution_count": 33,
     "metadata": {},
     "output_type": "execute_result"
    },
    {
     "data": {
      "image/png": "[encoded data removed]",
      "text/plain": [
       "<Figure size 640x480 with 1 Axes>"
      ]
     },
     "metadata": {},
     "output_type": "display_data"
    }
   ],
   "source": [
    "plt.hist(similarities_test_list_1, bins=20)"
   ]
  },
  {
   "cell_type": "code",
   "execution_count": 36,
   "metadata": {},
   "outputs": [
    {
     "data": {
      "application/vnd.jupyter.widget-view+json": {
       "model_id": "2df12e97238c48a7b325f7084b798a13",
       "version_major": 2,
       "version_minor": 0
      },
      "text/plain": [
       "  0%|          | 0/100 [00:00<?, ?it/s]"
      ]
     },
     "metadata": {},
     "output_type": "display_data"
    }
   ],
   "source": [
    "similarities_test_list_2 = get_similarities(my_dataset_2, test_dataset)"
   ]
  },
  {
   "cell_type": "code",
   "execution_count": 37,
   "metadata": {},
   "outputs": [
    {
     "data": {
      "text/plain": [
       "(array([ 2.,  2.,  3.,  4.,  4., 11.,  6., 11., 16.,  4., 11.,  4.,  5.,\n",
       "         5.,  2.,  3.,  3.,  1.,  1.,  2.]),\n",
       " array([0.67727247, 0.67862432, 0.67997618, 0.68132804, 0.6826799 ,\n",
       "        0.68403175, 0.68538361, 0.68673547, 0.68808732, 0.68943918,\n",
       "        0.69079104, 0.6921429 , 0.69349475, 0.69484661, 0.69619847,\n",
       "        0.69755033, 0.69890218, 0.70025404, 0.7016059 , 0.70295775,\n",
       "        0.70430961]),\n",
       " <BarContainer object of 20 artists>)"
      ]
     },
     "execution_count": 37,
     "metadata": {},
     "output_type": "execute_result"
    },
    {
     "data": {
      "image/png": "[encoded data removed]",
      "text/plain": [
       "<Figure size 640x480 with 1 Axes>"
      ]
     },
     "metadata": {},
     "output_type": "display_data"
    }
   ],
   "source": [
    "plt.hist(similarities_test_list_2, bins=20)"
   ]
  },
  {
   "cell_type": "code",
   "execution_count": null,
   "metadata": {},
   "outputs": [],
   "source": [
    "def plot_images(dataset, cnt, random_state=42):\n",
    "    idxs = np.random.choice(range(len(dataset)), cnt, replace=False)\n",
    "    subset = torch.utils.data.Subset(dataset, idxs)\n",
    "\n",
    "    rows = int(np.ceil(cnt ** 0.5))\n",
    "    cols = int(cnt ** 0.5)\n",
    "    \n",
    "    fig, axs = plt.subplots(rows, cols, figsize=(10, 10))\n",
    "\n",
    "    for i in range(len(subset)):\n",
    "        axs[i // cols, i % cols].imshow(subset[i])\n",
    "\n",
    "    plt.show()"
   ]
  },
  {
   "cell_type": "code",
   "execution_count": 35,
   "metadata": {},
   "outputs": [
    {
     "data": {
      "text/plain": [
       "2.0"
      ]
     },
     "execution_count": 35,
     "metadata": {},
     "output_type": "execute_result"
    }
   ],
   "source": [
    "np.ceil(1.2)"
   ]
  },
  {
   "cell_type": "code",
   "execution_count": null,
   "metadata": {},
   "outputs": [],
   "source": []
  },
  {
   "cell_type": "code",
   "execution_count": null,
   "metadata": {},
   "outputs": [],
   "source": []
  }
 ],
 "metadata": {
  "kernelspec": {
   "display_name": "Python 3 (ipykernel)",
   "language": "python",
   "name": "python3"
  },
  "language_info": {
   "codemirror_mode": {
    "name": "ipython",
    "version": 3
   },
   "file_extension": ".py",
   "mimetype": "text/x-python",
   "name": "python",
   "nbconvert_exporter": "python",
   "pygments_lexer": "ipython3",
   "version": "3.12.4"
  }
 },
 "nbformat": 4,
 "nbformat_minor": 2
}
